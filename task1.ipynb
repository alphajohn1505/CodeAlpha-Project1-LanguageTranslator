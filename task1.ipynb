{
 "cells": [
  {
   "cell_type": "code",
   "execution_count": 1,
   "id": "26ef18ef",
   "metadata": {},
   "outputs": [],
   "source": [
    "import tkinter as tk\n",
    "from googletrans import Translator"
   ]
  },
  {
   "cell_type": "code",
   "execution_count": 2,
   "id": "0a2f7a88",
   "metadata": {},
   "outputs": [],
   "source": [
    "class TranslationApp:\n",
    "    def __init__(self, root):\n",
    "        self.root = root\n",
    "        self.root.title(\"Text Translator\")\n",
    "        \n",
    "        self.create_ui()\n",
    "\n",
    "    def create_ui(self):\n",
    "        pass"
   ]
  },
  {
   "cell_type": "code",
   "execution_count": 3,
   "id": "047fae3e",
   "metadata": {},
   "outputs": [],
   "source": [
    "def create_ui(self):\n",
    "    self.label = tk.Label(self.root, text=\"Enter text:\")\n",
    "    self.label.pack()\n",
    "\n",
    "    self.input_text = tk.Text(self.root, height=5, width=40)\n",
    "    self.input_text.pack()\n",
    "\n",
    "    self.translate_button = tk.Button(self.root, text=\"Translate\", command=self.translate_text)\n",
    "    self.translate_button.pack()\n",
    "\n",
    "    self.output_label = tk.Label(self.root, text=\"Translated text:\")\n",
    "    self.output_label.pack()\n",
    "\n",
    "    self.output_text = tk.Text(self.root, height=5, width=40)\n",
    "    self.output_text.pack()\n",
    "\n",
    "def translate_text(self):\n",
    "    input_text = self.input_text.get(\"1.0\", \"end-1c\")\n",
    "    \n",
    "    translator = Translator()\n",
    "    try:\n",
    "        translation = translator.translate(input_text, dest=\"en\")  # Translate to English by default\n",
    "        self.output_text.delete(\"1.0\", \"end\")\n",
    "        self.output_text.insert(\"1.0\", translation.text)\n",
    "    except Exception as e:\n",
    "        self.output_text.delete(\"1.0\", \"end\")\n",
    "        self.output_text.insert(\"1.0\", \"Error: \" + str(e))"
   ]
  },
  {
   "cell_type": "code",
   "execution_count": 4,
   "id": "98d98d8d",
   "metadata": {},
   "outputs": [],
   "source": [
    "if __name__ == \"__main__\":\n",
    "    root = tk.Tk()\n",
    "    app = TranslationApp(root)\n",
    "    root.mainloop()"
   ]
  }
 ],
 "metadata": {
  "kernelspec": {
   "display_name": "Python 3 (ipykernel)",
   "language": "python",
   "name": "python3"
  },
  "language_info": {
   "codemirror_mode": {
    "name": "ipython",
    "version": 3
   },
   "file_extension": ".py",
   "mimetype": "text/x-python",
   "name": "python",
   "nbconvert_exporter": "python",
   "pygments_lexer": "ipython3",
   "version": "3.10.9"
  }
 },
 "nbformat": 4,
 "nbformat_minor": 5
}
